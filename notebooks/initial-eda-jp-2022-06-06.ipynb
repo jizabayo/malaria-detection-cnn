{
 "cells": [
  {
   "cell_type": "code",
   "execution_count": 1,
   "metadata": {},
   "outputs": [],
   "source": [
    "import pandas as pd\n",
    "import numpy as np\n",
    "import os\n",
    "import cv2\n",
    "import matplotlib.pyplot as plt"
   ]
  },
  {
   "cell_type": "code",
   "execution_count": 2,
   "metadata": {},
   "outputs": [],
   "source": [
    "# !ls ../../cell_images/Parasitized"
   ]
  },
  {
   "cell_type": "code",
   "execution_count": 3,
   "metadata": {},
   "outputs": [],
   "source": [
    "#initial settings\n",
    "plt.rcParams['figure.figsize'] = (12, 7)"
   ]
  },
  {
   "cell_type": "markdown",
   "metadata": {},
   "source": [
    "## Importing the data"
   ]
  },
  {
   "cell_type": "code",
   "execution_count": 4,
   "metadata": {},
   "outputs": [
    {
     "name": "stdout",
     "output_type": "stream",
     "text": [
      "['Parasitized', 'Uninfected']\n"
     ]
    }
   ],
   "source": [
    "print(os.listdir(\"../../cell_images/\"))"
   ]
  },
  {
   "cell_type": "code",
   "execution_count": 5,
   "metadata": {},
   "outputs": [],
   "source": [
    "# image_data = cv2.imread(\"../../cell_images/Parasitized/C100P61ThinF_IMG_20150918_144104_cell_162.png\")\n",
    "# cv2.imshow('image', image_data)"
   ]
  },
  {
   "cell_type": "code",
   "execution_count": 6,
   "metadata": {},
   "outputs": [],
   "source": [
    "#leading the data\n",
    "parasitized = os.listdir(\"../../cell_images/Parasitized/\") #parasitized data\n",
    "uninfected = os.listdir(\"../../cell_images/Uninfected/\") #uninfected data"
   ]
  },
  {
   "cell_type": "code",
   "execution_count": 7,
   "metadata": {},
   "outputs": [],
   "source": [
    "#visualizing the image\n",
    "img = cv2.imread('../../cell_images/Parasitized/'+\"/\" + parasitized[1])\n",
    "# plt.imshow(img)\n",
    "# plt.title('Parasitized')"
   ]
  },
  {
   "cell_type": "code",
   "execution_count": 8,
   "metadata": {},
   "outputs": [],
   "source": [
    "#visualizing the image\n",
    "img = cv2.imread('../../cell_images/Uninfected/'+\"/\" + uninfected[1])\n",
    "# plt.imshow(img)\n",
    "# plt.title('Uninfected')"
   ]
  },
  {
   "cell_type": "markdown",
   "metadata": {},
   "source": [
    "# Exploratory Data Analysis"
   ]
  },
  {
   "cell_type": "markdown",
   "metadata": {},
   "source": [
    "1. Define Target Varible \n",
    "2. Collect all the relevant data\n",
    "    1. Data to define the target variable\n",
    "    2. Data that will be used to create the features to be used in model training\n",
    "3. Create the target variable\n",
    "4. Construct initial train data (data for features and for training data)\n",
    "5. Explore train data\n",
    "    1. Explore data\n",
    "    2. Draw insights\n",
    "    3. Build problem knowledge"
   ]
  },
  {
   "cell_type": "markdown",
   "metadata": {},
   "source": [
    "1. Define target variable\n",
    "\n",
    "We want to predict if a a red blood cell is parasitized or uninfected. \n",
    "\n",
    "We will divide the cells data into two classes:\n",
    "    - Parasitized\n",
    "    - Uninfected\n",
    "   \n",
    "The original dataset from the National Library of Medecine is already divided into the two classes. \n",
    "\n",
    "Class 0: Parasitized <br/>\n",
    "Class 1: Uninfected"
   ]
  },
  {
   "cell_type": "markdown",
   "metadata": {},
   "source": [
    "## 2. Collect all the relevant data"
   ]
  },
  {
   "cell_type": "code",
   "execution_count": null,
   "metadata": {},
   "outputs": [],
   "source": []
  }
 ],
 "metadata": {
  "kernelspec": {
   "display_name": "Python 3 (ipykernel)",
   "language": "python",
   "name": "python3"
  },
  "language_info": {
   "codemirror_mode": {
    "name": "ipython",
    "version": 3
   },
   "file_extension": ".py",
   "mimetype": "text/x-python",
   "name": "python",
   "nbconvert_exporter": "python",
   "pygments_lexer": "ipython3",
   "version": "3.8.10"
  }
 },
 "nbformat": 4,
 "nbformat_minor": 4
}
